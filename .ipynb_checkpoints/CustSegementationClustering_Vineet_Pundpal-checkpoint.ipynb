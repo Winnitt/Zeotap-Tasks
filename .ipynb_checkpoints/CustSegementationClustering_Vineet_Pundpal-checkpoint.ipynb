{
 "cells": [
  {
   "cell_type": "code",
   "execution_count": 2,
   "id": "69c6c01b-8783-4cbf-925c-1491710bfca2",
   "metadata": {},
   "outputs": [
    {
     "ename": "NameError",
     "evalue": "name 's' is not defined",
     "output_type": "error",
     "traceback": [
      "\u001b[1;31m---------------------------------------------------------------------------\u001b[0m",
      "\u001b[1;31mNameError\u001b[0m                                 Traceback (most recent call last)",
      "Cell \u001b[1;32mIn[2], line 41\u001b[0m\n\u001b[0;32m     38\u001b[0m scaler \u001b[38;5;241m=\u001b[39m StandardScaler()\n\u001b[0;32m     39\u001b[0m scaled_features \u001b[38;5;241m=\u001b[39m scaler\u001b[38;5;241m.\u001b[39mfit_transform(features)\n\u001b[1;32m---> 41\u001b[0m \u001b[43ms\u001b[49m\n\u001b[0;32m     42\u001b[0m n_clusters \u001b[38;5;241m=\u001b[39m \u001b[38;5;241m5\u001b[39m  \u001b[38;5;66;03m# We can use any no. of cluster\u001b[39;00m\n\u001b[0;32m     43\u001b[0m kmeans \u001b[38;5;241m=\u001b[39m KMeans(n_clusters\u001b[38;5;241m=\u001b[39mn_clusters, random_state\u001b[38;5;241m=\u001b[39m\u001b[38;5;241m42\u001b[39m)\n",
      "\u001b[1;31mNameError\u001b[0m: name 's' is not defined"
     ]
    }
   ],
   "source": [
    "import pandas as pd\n",
    "import numpy as np\n",
    "from sklearn.preprocessing import StandardScaler\n",
    "from sklearn.cluster import KMeans\n",
    "from sklearn.metrics import davies_bouldin_score, silhouette_score\n",
    "import matplotlib.pyplot as plt\n",
    "import seaborn as sns\n",
    "\n",
    "\n",
    "customers = pd.read_csv(\"Customers.csv\")\n",
    "transactions = pd.read_csv(\"Transactions.csv\")\n",
    "\n",
    "\n",
    "customers['SignupDate'] = pd.to_datetime(customers['SignupDate'])\n",
    "customers['SignupYear'] = customers['SignupDate'].dt.year\n",
    "\n",
    "\n",
    "customer_transactions = transactions.groupby('CustomerID').agg({\n",
    "    'TotalValue': 'sum',\n",
    "    'Quantity': 'sum'\n",
    "}).reset_index()\n",
    "\n",
    "# Merge customer and transaction data\n",
    "customer_data = pd.merge(customers, customer_transactions, on='CustomerID', how='left')\n",
    "\n",
    "\n",
    "customer_data['TotalValue'] = customer_data['TotalValue'].fillna(0)\n",
    "customer_data['Quantity'] = customer_data['Quantity'].fillna(0)\n",
    "\n",
    "\n",
    "customer_data_encoded = pd.get_dummies(customer_data, columns=['Region'], drop_first=True)\n",
    "\n",
    "\n",
    "features = customer_data_encoded[['TotalValue', 'Quantity', 'SignupYear'] + \n",
    "                                  [col for col in customer_data_encoded.columns if 'Region_' in col]]\n",
    "\n",
    "\n",
    "scaler = StandardScaler()\n",
    "scaled_features = scaler.fit_transform(features)\n",
    "\n",
    "\n",
    "n_clusters = 5  # We can use any no. of cluster\n",
    "kmeans = KMeans(n_clusters=n_clusters, random_state=42)\n",
    "customer_data['Cluster'] = kmeans.fit_predict(scaled_features)\n",
    "\n",
    "\n",
    "db_index = davies_bouldin_score(scaled_features, customer_data['Cluster'])\n",
    "silhouette_avg = silhouette_score(scaled_features, customer_data['Cluster'])\n",
    "\n",
    "\n",
    "print(f\"Number of Clusters: {n_clusters}\")\n",
    "print(f\"Davies-Bouldin Index: {db_index}\")\n",
    "print(f\"Silhouette Score: {silhouette_avg}\")\n",
    "\n",
    "\n",
    "plt.figure(figsize=(10, 6))\n",
    "sns.scatterplot(\n",
    "    x=scaled_features[:, 0], \n",
    "    y=scaled_features[:, 1], \n",
    "    hue=customer_data['Cluster'], \n",
    "    palette='viridis'\n",
    ")\n",
    "plt.title(f\"Customer Clusters (K={n_clusters})\", fontsize=16)\n",
    "plt.xlabel('Feature 1 (Scaled)', fontsize=12)\n",
    "plt.ylabel('Feature 2 (Scaled)', fontsize=12)\n",
    "plt.legend(title=\"Cluster\")\n",
    "plt.show()\n",
    "\n",
    "\n",
    "customer_data.to_csv('FirstName_LastName_Clustering.csv', index=False)\n"
   ]
  },
  {
   "cell_type": "code",
   "execution_count": null,
   "id": "09587fd8-5051-4ff8-87ad-caa438f6a469",
   "metadata": {},
   "outputs": [],
   "source": []
  }
 ],
 "metadata": {
  "kernelspec": {
   "display_name": "Python 3 (ipykernel)",
   "language": "python",
   "name": "python3"
  },
  "language_info": {
   "codemirror_mode": {
    "name": "ipython",
    "version": 3
   },
   "file_extension": ".py",
   "mimetype": "text/x-python",
   "name": "python",
   "nbconvert_exporter": "python",
   "pygments_lexer": "ipython3",
   "version": "3.11.5"
  }
 },
 "nbformat": 4,
 "nbformat_minor": 5
}
